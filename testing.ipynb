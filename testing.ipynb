{
 "cells": [
  {
   "cell_type": "code",
   "execution_count": 1,
   "metadata": {},
   "outputs": [],
   "source": [
    "import pandas as pd\n",
    "import pymongo"
   ]
  },
  {
   "cell_type": "code",
   "execution_count": 2,
   "metadata": {},
   "outputs": [],
   "source": [
    "database_name = 'test'\n",
    "\n",
    "mongo_client = pymongo.MongoClient(\"mongodb://localhost:27017/\")\n",
    "db           = mongo_client[database_name]\n",
    "email_db     = db['emails']"
   ]
  },
  {
   "cell_type": "code",
   "execution_count": 3,
   "metadata": {},
   "outputs": [],
   "source": [
    "df = pd.read_json('out.json')"
   ]
  },
  {
   "cell_type": "code",
   "execution_count": 4,
   "metadata": {},
   "outputs": [
    {
     "data": {
      "text/html": [
       "<div>\n",
       "<style scoped>\n",
       "    .dataframe tbody tr th:only-of-type {\n",
       "        vertical-align: middle;\n",
       "    }\n",
       "\n",
       "    .dataframe tbody tr th {\n",
       "        vertical-align: top;\n",
       "    }\n",
       "\n",
       "    .dataframe thead th {\n",
       "        text-align: right;\n",
       "    }\n",
       "</style>\n",
       "<table border=\"1\" class=\"dataframe\">\n",
       "  <thead>\n",
       "    <tr style=\"text-align: right;\">\n",
       "      <th></th>\n",
       "      <th>_id</th>\n",
       "      <th>subject</th>\n",
       "      <th>from</th>\n",
       "      <th>date</th>\n",
       "      <th>body</th>\n",
       "      <th>cleaned_body</th>\n",
       "      <th>sentences</th>\n",
       "      <th>entities</th>\n",
       "    </tr>\n",
       "  </thead>\n",
       "  <tbody>\n",
       "    <tr>\n",
       "      <th>0</th>\n",
       "      <td>9</td>\n",
       "      <td>You may lose access to some of your third-part...</td>\n",
       "      <td>Google &lt;no-reply@accounts.google.com&gt;</td>\n",
       "      <td>Fri, 04 Mar 2022 02:36:00 GMT</td>\n",
       "      <td>[image: Google]\\r\\nOn May 30, you may lose acc...</td>\n",
       "      <td>[image: Google] On May 30, you may lose access...</td>\n",
       "      <td>Sentence: \"[ image : Google ] On May 30 , you ...</td>\n",
       "      <td>[{'text': 'Google', 'start_pos': 8, 'end_pos':...</td>\n",
       "    </tr>\n",
       "    <tr>\n",
       "      <th>1</th>\n",
       "      <td>10</td>\n",
       "      <td>Test Email for MailEx</td>\n",
       "      <td>Abdul Rafey &lt;arafey183@gmail.com&gt;</td>\n",
       "      <td>Sun, 27 Feb 2022 15:57:54 +0500</td>\n",
       "      <td>Please ignore this email\\r\\n</td>\n",
       "      <td>Please ignore this email</td>\n",
       "      <td>Sentence: \"Please ignore this email\"   [− Toke...</td>\n",
       "      <td>[]</td>\n",
       "    </tr>\n",
       "  </tbody>\n",
       "</table>\n",
       "</div>"
      ],
      "text/plain": [
       "   _id                                            subject  \\\n",
       "0    9  You may lose access to some of your third-part...   \n",
       "1   10                              Test Email for MailEx   \n",
       "\n",
       "                                    from                             date  \\\n",
       "0  Google <no-reply@accounts.google.com>    Fri, 04 Mar 2022 02:36:00 GMT   \n",
       "1      Abdul Rafey <arafey183@gmail.com>  Sun, 27 Feb 2022 15:57:54 +0500   \n",
       "\n",
       "                                                body  \\\n",
       "0  [image: Google]\\r\\nOn May 30, you may lose acc...   \n",
       "1                       Please ignore this email\\r\\n   \n",
       "\n",
       "                                        cleaned_body  \\\n",
       "0  [image: Google] On May 30, you may lose access...   \n",
       "1                           Please ignore this email   \n",
       "\n",
       "                                           sentences  \\\n",
       "0  Sentence: \"[ image : Google ] On May 30 , you ...   \n",
       "1  Sentence: \"Please ignore this email\"   [− Toke...   \n",
       "\n",
       "                                            entities  \n",
       "0  [{'text': 'Google', 'start_pos': 8, 'end_pos':...  \n",
       "1                                                 []  "
      ]
     },
     "execution_count": 4,
     "metadata": {},
     "output_type": "execute_result"
    }
   ],
   "source": [
    "df"
   ]
  },
  {
   "cell_type": "code",
   "execution_count": 30,
   "metadata": {},
   "outputs": [
    {
     "name": "stderr",
     "output_type": "stream",
     "text": [
      "C:\\Users\\ABDULR~1\\AppData\\Local\\Temp/ipykernel_8808/345413323.py:1: FutureWarning: Using short name for 'orient' is deprecated. Only the options: ('dict', list, 'series', 'split', 'records', 'index') will be used in a future version. Use one of the above to silence this warning.\n",
      "  pop = df.to_dict('r')\n"
     ]
    }
   ],
   "source": [
    "pop = df.to_dict('r')\n"
   ]
  },
  {
   "cell_type": "code",
   "execution_count": 33,
   "metadata": {},
   "outputs": [],
   "source": [
    "pop = email_db.insert_many(pop)"
   ]
  },
  {
   "cell_type": "code",
   "execution_count": 7,
   "metadata": {},
   "outputs": [
    {
     "data": {
      "text/plain": [
       "'arafey183@gmail.com'"
      ]
     },
     "execution_count": 7,
     "metadata": {},
     "output_type": "execute_result"
    }
   ],
   "source": [
    "import re\n",
    "\n",
    "string = \"Google <no-reply@accounts.google.com>\"\n",
    "\n",
    "string2 = \"Abdul Rafey <arafey183@gmail.com>\"\n",
    "\n",
    "re.search(r'\\<(.*?)\\>', string2).group(1)\n"
   ]
  },
  {
   "cell_type": "code",
   "execution_count": 9,
   "metadata": {},
   "outputs": [
    {
     "data": {
      "text/plain": [
       "'Google '"
      ]
     },
     "execution_count": 9,
     "metadata": {},
     "output_type": "execute_result"
    }
   ],
   "source": [
    "re.match(\"(.*?)<\",string).group(1)"
   ]
  },
  {
   "cell_type": "code",
   "execution_count": 11,
   "metadata": {},
   "outputs": [
    {
     "data": {
      "text/plain": [
       "<pymongo.results.InsertOneResult at 0x280bfd38c00>"
      ]
     },
     "execution_count": 11,
     "metadata": {},
     "output_type": "execute_result"
    }
   ],
   "source": [
    "temp = db['num_read_emails']\n",
    "\n",
    "temp.insert_one({'_id': 0, 'num_read_emails': 8})"
   ]
  },
  {
   "cell_type": "code",
   "execution_count": 13,
   "metadata": {},
   "outputs": [
    {
     "name": "stdout",
     "output_type": "stream",
     "text": [
      "{'_id': 0, 'num_read_emails': 8}\n"
     ]
    }
   ],
   "source": [
    "for i in temp.find():\n",
    "    print(i)"
   ]
  },
  {
   "cell_type": "code",
   "execution_count": 16,
   "metadata": {},
   "outputs": [
    {
     "data": {
      "text/plain": [
       "<pymongo.results.UpdateResult at 0x280bfcbad80>"
      ]
     },
     "execution_count": 16,
     "metadata": {},
     "output_type": "execute_result"
    }
   ],
   "source": [
    "myquery = temp.find()[0]\n",
    "newvalues = { \"$set\": { \"num_read_emails\": 10 } }\n",
    "\n",
    "temp.update_one(myquery, newvalues)"
   ]
  },
  {
   "cell_type": "code",
   "execution_count": null,
   "metadata": {},
   "outputs": [],
   "source": []
  }
 ],
 "metadata": {
  "interpreter": {
   "hash": "db3ca9ec755843094bfe658d337cf97d381b019c52f517307d44cf002f9583d1"
  },
  "kernelspec": {
   "display_name": "Python 3.8.3 64-bit",
   "language": "python",
   "name": "python3"
  },
  "language_info": {
   "codemirror_mode": {
    "name": "ipython",
    "version": 3
   },
   "file_extension": ".py",
   "mimetype": "text/x-python",
   "name": "python",
   "nbconvert_exporter": "python",
   "pygments_lexer": "ipython3",
   "version": "3.8.3"
  },
  "orig_nbformat": 4
 },
 "nbformat": 4,
 "nbformat_minor": 2
}
